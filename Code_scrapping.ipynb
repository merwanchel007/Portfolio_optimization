{
 "cells": [
  {
   "cell_type": "markdown",
   "metadata": {},
   "source": [
    "## Recupération des news\n"
   ]
  },
  {
   "cell_type": "code",
   "execution_count": 10,
   "metadata": {},
   "outputs": [
    {
     "name": "stdout",
     "output_type": "stream",
     "text": [
      "Collecting nltk\n",
      "  Downloading nltk-3.6.5-py3-none-any.whl (1.5 MB)\n",
      "     |████████████████████████████████| 1.5 MB 2.0 MB/s            \n",
      "\u001b[?25hRequirement already satisfied: click in /opt/conda/lib/python3.9/site-packages (from nltk) (8.0.3)\n",
      "Requirement already satisfied: tqdm in /opt/conda/lib/python3.9/site-packages (from nltk) (4.62.3)\n",
      "Requirement already satisfied: joblib in /opt/conda/lib/python3.9/site-packages (from nltk) (1.1.0)\n",
      "Collecting regex>=2021.8.3\n",
      "  Downloading regex-2021.11.10-cp39-cp39-manylinux_2_17_x86_64.manylinux2014_x86_64.whl (763 kB)\n",
      "     |████████████████████████████████| 763 kB 49.1 MB/s            \n",
      "\u001b[?25hInstalling collected packages: regex, nltk\n",
      "Successfully installed nltk-3.6.5 regex-2021.11.10\n"
     ]
    }
   ],
   "source": [
    "#!pip install wordcloud\n",
    "#!pip install nltk"
   ]
  },
  {
   "cell_type": "code",
   "execution_count": 11,
   "metadata": {},
   "outputs": [
    {
     "name": "stderr",
     "output_type": "stream",
     "text": [
      "[nltk_data] Downloading package punkt to /home/jovyan/nltk_data...\n",
      "[nltk_data]   Unzipping tokenizers/punkt.zip.\n",
      "[nltk_data] Downloading package stopwords to /home/jovyan/nltk_data...\n",
      "[nltk_data]   Unzipping corpora/stopwords.zip.\n",
      "[nltk_data] Downloading package vader_lexicon to\n",
      "[nltk_data]     /home/jovyan/nltk_data...\n"
     ]
    }
   ],
   "source": [
    "import requests\n",
    "from bs4 import BeautifulSoup\n",
    "import pandas as pd\n",
    "\n",
    "\n",
    "#partie wordcloud\n",
    "from wordcloud import WordCloud\n",
    "import matplotlib.pyplot as plt\n",
    "from PIL import Image\n",
    "import numpy as np\n",
    "import urllib\n",
    "\n",
    "\n",
    "# partie NLP\n",
    "import nltk\n",
    "\n",
    "nltk.download('punkt')\n",
    "words = nltk.download('stopwords')\n",
    "nltk.download('vader_lexicon')\n",
    "\n",
    "from nltk.corpus import stopwords\n",
    "from nltk.stem.snowball import SnowballStemmer\n",
    "from nltk.sentiment.vader import SentimentIntensityAnalyzer"
   ]
  },
  {
   "cell_type": "code",
   "execution_count": 12,
   "metadata": {},
   "outputs": [],
   "source": [
    "def get_company():\n",
    "\n",
    "    url = 'https://www.investing.com/equities'\n",
    "    r = requests.get(url, headers={\"User-Agent\": \"Mozilla/5.0\"})\n",
    "    soup = BeautifulSoup(r.content, 'html.parser')\n",
    "    tbody = soup.findAll(\"td\",{\"class\":\"bold left noWrap elp plusIconTd\"})\n",
    "    l = []\n",
    "    for p in tbody:\n",
    "        l.append(p.find(\"a\")['href'].split('/')[2])\n",
    "    return l"
   ]
  },
  {
   "cell_type": "code",
   "execution_count": 13,
   "metadata": {},
   "outputs": [
    {
     "data": {
      "text/plain": [
       "['boeing-co',\n",
       " 'chevron',\n",
       " 'caterpillar',\n",
       " 'intel-corp',\n",
       " 'microsoft-corp',\n",
       " 'disney',\n",
       " 'cisco-sys-inc',\n",
       " 'goldman-sachs-group',\n",
       " 'jp-morgan-chase',\n",
       " 'coca-cola-co',\n",
       " 'mcdonalds',\n",
       " 'merck---co',\n",
       " '3m-co',\n",
       " 'apple-computer-inc',\n",
       " 'amazon-com-inc',\n",
       " 'amgen-inc',\n",
       " 'wal-mart-stores',\n",
       " 'home-depot',\n",
       " 'ibm',\n",
       " 'verizon-communications',\n",
       " 'johnson-johnson',\n",
       " 'honeywell-intl',\n",
       " 'salesforce-com',\n",
       " 'visa-inc',\n",
       " 'united-health-group',\n",
       " 'nike',\n",
       " 'procter-gamble',\n",
       " 'tesla-motors',\n",
       " 'facebook-inc',\n",
       " 'google-inc-c']"
      ]
     },
     "execution_count": 13,
     "metadata": {},
     "output_type": "execute_result"
    }
   ],
   "source": [
    "liste_entreprise = get_company()\n",
    "liste_entreprise"
   ]
  },
  {
   "cell_type": "code",
   "execution_count": 14,
   "metadata": {},
   "outputs": [],
   "source": [
    "def get_news(company,nb_page=1):\n",
    "    url = 'https://www.investing.com/equities/'+company+'-news/'+str(nb_page)\n",
    "    r = requests.get(url, headers={\"User-Agent\": \"Mozilla/5.0\"})\n",
    "    soup = BeautifulSoup(r.content, 'html.parser')\n",
    "    article_body = soup.findAll(\"a\",{\"class\":\"title\"})\n",
    "    #print(article_body)\n",
    "    l=[]\n",
    "    for p in article_body:\n",
    "        l.append(p.get(\"title\"))\n",
    "    return l[6:]"
   ]
  },
  {
   "cell_type": "code",
   "execution_count": 15,
   "metadata": {},
   "outputs": [
    {
     "name": "stdout",
     "output_type": "stream",
     "text": [
      "[\"U.S. Inflation, Weak U.K. Growth, Russia/Ukraine Dispute   - What's Moving Markets\", 'Tesla sued by second female worker over sexual harassment, retaliation', \"Factbox-Tesla's Musk sells shares worth nearly $12 billion in a month\", 'Musk sells Tesla shares worth $963.2 million - filings', 'Wall St closes lower ahead of inflation data, Fed meeting', 'U.S. safety agency discussing Tesla camera replacements', 'U.S. stocks lower at close of trade; Dow Jones Industrial Average down 0.00%', 'Apple inches closer to $3 trillion market cap', 'Ford caps F-150 Lightning orders at 200,000 - CEO Farley', 'Ethereum transaction energy use equals 2.5 miles in a Tesla Model 3: Report ']\n"
     ]
    }
   ],
   "source": [
    "print(get_news(\"tesla-motors\",3))"
   ]
  },
  {
   "cell_type": "code",
   "execution_count": 16,
   "metadata": {},
   "outputs": [],
   "source": [
    "def get_tilte_dictionary(company_list, number_page=1):\n",
    "    dicto = {}\n",
    "    for company in company_list :\n",
    "        l = []\n",
    "        for page in range(1,number_page+1):\n",
    "            l = l + get_news(company, page)\n",
    "        dicto[str(company)] = ' '.join(l).lower()\n",
    "    \n",
    "    return dicto\n"
   ]
  },
  {
   "cell_type": "markdown",
   "metadata": {},
   "source": [
    "## Word cloud version simple\n",
    "\n",
    "Peut-être essayer de faire un truc qui cherche le masque automatiquement à partir du nom de l'entreprise si on le sent"
   ]
  },
  {
   "cell_type": "code",
   "execution_count": 17,
   "metadata": {},
   "outputs": [],
   "source": [
    "data = get_tilte_dictionary(liste_entreprise[:2],1)"
   ]
  },
  {
   "cell_type": "code",
   "execution_count": 18,
   "metadata": {},
   "outputs": [
    {
     "name": "stdout",
     "output_type": "stream",
     "text": [
      "u.s. stocks higher at close of trade; dow jones industrial average up 0.60% finland orders 64 lockheed f-35 fighter jets for $9.4 billion china's domestic air traffic recovery faltering due to zero-covid policy jim cramer says he's sticking with boeing, believes long-term prospects remain bright veteran boeing airplanes executive mark jenks to retire u.s. stocks lower at close of trade; dow jones industrial average down 0.00% jetpacks, flying cars and taxi drones: transport's future is in the skies veteran boeing airplanes executive mark jenks to retire american airlines plans to reduce international flights next summer stocks making the biggest moves midday: cvs, lucid, southwest airlines, boeing, gamestop and more\n"
     ]
    }
   ],
   "source": [
    "print(data['boeing-co'])"
   ]
  },
  {
   "cell_type": "code",
   "execution_count": 19,
   "metadata": {},
   "outputs": [
    {
     "data": {
      "image/png": "[encoded data removed]",
      "text/plain": [
       "<Figure size 432x288 with 1 Axes>"
      ]
     },
     "metadata": {
      "needs_background": "light"
     },
     "output_type": "display_data"
    }
   ],
   "source": [
    "mask = np.array(Image.open(requests.get('https://www.freeiconspng.com/uploads/airplane-icon-image-gallery-1.png', stream=True).raw))\n",
    "\n",
    "wordcloud = WordCloud(background_color = 'white', max_words = 50, mask  = mask).generate(data[liste_entreprise[0]])\n",
    "plt.imshow(wordcloud)\n",
    "plt.axis(\"off\")\n",
    "plt.show();"
   ]
  },
  {
   "cell_type": "markdown",
   "metadata": {},
   "source": [
    "# NLP\n",
    "\n",
    "## Tokenization"
   ]
  },
  {
   "cell_type": "code",
   "execution_count": 20,
   "metadata": {},
   "outputs": [],
   "source": [
    "words = nltk.word_tokenize(data[liste_entreprise[0]])\n",
    "#print(words)"
   ]
  },
  {
   "cell_type": "markdown",
   "metadata": {},
   "source": [
    "## suppression de la ponctuation\n"
   ]
  },
  {
   "cell_type": "code",
   "execution_count": 21,
   "metadata": {},
   "outputs": [],
   "source": [
    "words = [word for word in words if word.isalpha()] #cela retire le mot u.s,  on peux supposer que cela n'a pas beaucoup d'impact puisque nous travaillons uniquement sur des données des u.s\n",
    "#print(words)"
   ]
  },
  {
   "cell_type": "markdown",
   "metadata": {},
   "source": [
    "## retirer les stop word"
   ]
  },
  {
   "cell_type": "code",
   "execution_count": 22,
   "metadata": {},
   "outputs": [],
   "source": [
    "stop_words = set(stopwords.words('english'))\n",
    "keep_words = ['up', 'down', 'under','no'] #modifier cette liste ????\n",
    "stop_words = [word for word in stop_words if word not in keep_words]\n",
    "words = [ word for word in words if not word in stop_words]\n",
    "#print(words)\n",
    "#print(stopwords)"
   ]
  },
  {
   "cell_type": "markdown",
   "metadata": {},
   "source": [
    "## stemming"
   ]
  },
  {
   "cell_type": "code",
   "execution_count": 23,
   "metadata": {},
   "outputs": [],
   "source": [
    "stemmer = SnowballStemmer(language = 'english')\n",
    "stemmed = [stemmer.stem(word) for word in words]\n",
    "#print(stemmed)"
   ]
  },
  {
   "cell_type": "markdown",
   "metadata": {},
   "source": [
    "## Fonction qui transforme les données d'un seul coup:"
   ]
  },
  {
   "cell_type": "code",
   "execution_count": 24,
   "metadata": {},
   "outputs": [],
   "source": [
    "def clean_text(text):\n",
    "    words = nltk.word_tokenize(text)\n",
    "    \n",
    "    words = [word for word in words if word.isalpha()]\n",
    "    \n",
    "    stop_words = set(stopwords.words('english'))\n",
    "    keep_words = ['up', 'down', 'under','no'] #modifier cette liste ????\n",
    "    stop_words = [word for word in stop_words if word not in keep_words]\n",
    "    words = [ word for word in words if not word in stop_words]\n",
    "    \n",
    "    stemmer = SnowballStemmer(language = 'english')\n",
    "    stemmed = [stemmer.stem(word) for word in words]\n",
    "    \n",
    "    return(' '.join(stemmed))"
   ]
  },
  {
   "cell_type": "code",
   "execution_count": 31,
   "metadata": {},
   "outputs": [],
   "source": [
    "def return_sentiment(company_data):\n",
    "    text = clean_text(company_data)\n",
    "    sid = SentimentIntensityAnalyzer()\n",
    "    l = sid.polarity_scores(clean_text(company_data))\n",
    "    return(l['pos']*1.5 + l['neu'] - l['neg']*1.5) #fonction faites à la main,à discuter"
   ]
  },
  {
   "cell_type": "code",
   "execution_count": 26,
   "metadata": {},
   "outputs": [],
   "source": [
    "def build_data_sentiment(company_list, page=1):\n",
    "    data = get_tilte_dictionary(company_list, page)\n",
    "    df = pd.DataFrame(columns = ['company','score'])\n",
    "    for company in company_list : \n",
    "        df = df.append({'company': str(company), 'score':return_sentiment(data[company])},ignore_index=True)\n",
    "    return df"
   ]
  },
  {
   "cell_type": "code",
   "execution_count": 28,
   "metadata": {},
   "outputs": [],
   "source": [
    "df = build_data_sentiment(liste_entreprise[:5],3) #surment un peu long pour le dataframe complet !!!"
   ]
  },
  {
   "cell_type": "code",
   "execution_count": 29,
   "metadata": {},
   "outputs": [],
   "source": [
    "df = df.set_index('company')\n",
    "ordered_df = df['score'].sort_values(ascending = False)"
   ]
  },
  {
   "cell_type": "code",
   "execution_count": 30,
   "metadata": {},
   "outputs": [
    {
     "name": "stdout",
     "output_type": "stream",
     "text": [
      "company\n",
      "microsoft-corp    0.9205\n",
      "caterpillar       0.9035\n",
      "Name: score, dtype: float64\n"
     ]
    }
   ],
   "source": [
    "kept_company = ordered_df[:2]\n",
    "print(kept_company)"
   ]
  }
 ],
 "metadata": {
  "kernelspec": {
   "display_name": "Python 3 (ipykernel)",
   "language": "python",
   "name": "python3"
  },
  "language_info": {
   "codemirror_mode": {
    "name": "ipython",
    "version": 3
   },
   "file_extension": ".py",
   "mimetype": "text/x-python",
   "name": "python",
   "nbconvert_exporter": "python",
   "pygments_lexer": "ipython3",
   "version": "3.9.7"
  }
 },
 "nbformat": 4,
 "nbformat_minor": 4
}
